{
 "cells": [
  {
   "cell_type": "code",
   "execution_count": 4,
   "metadata": {},
   "outputs": [],
   "source": [
    "import torch\n",
    "import torch.nn as nn\n",
    "import torchvision.models as models\n",
    "import torchvision.transforms as transforms\n",
    "from torch.utils.data import Dataset, DataLoader\n",
    "from PIL import Image\n",
    "import numpy as np\n",
    "import os\n",
    "import nltk\n",
    "from nltk.translate.bleu_score import corpus_bleu\n",
    "import zipfile\n",
    "import shutil\n"
   ]
  },
  {
   "cell_type": "code",
   "execution_count": 5,
   "metadata": {},
   "outputs": [],
   "source": [
    "import zipfile\n",
    "import os\n",
    "import shutil\n",
    "\n",
    "def extract_images_with_captions(zip_path, image_names_path, captions_path, output_dir):\n",
    "    # Ensure output directory exists\n",
    "    os.makedirs(output_dir, exist_ok=True)\n",
    "    images_output_dir = os.path.join(output_dir, \"images\")\n",
    "    os.makedirs(images_output_dir, exist_ok=True)\n",
    "    captions_output_file = os.path.join(output_dir, \"captions.txt\")\n",
    "    \n",
    "    # Read required image names\n",
    "    with open(image_names_path, 'r') as f:\n",
    "        image_names = {line.strip() for line in f}\n",
    "    \n",
    "    # Read captions\n",
    "    captions = {}\n",
    "    with open(captions_path, 'r') as f:\n",
    "        for line in f:\n",
    "            parts = line.strip().split(\"\\t\", 1)  # Split only on the first tab\n",
    "            if len(parts) == 2:\n",
    "                base_name, index = parts[0].rsplit(\"#\", 1)  # Extract image name and index\n",
    "                if base_name in image_names:\n",
    "                    if base_name not in captions:\n",
    "                        captions[base_name] = []\n",
    "                    captions[base_name].append((index, parts[1]))  # Store with index\n",
    "    \n",
    "    # Extract images\n",
    "    with zipfile.ZipFile(zip_path, 'r') as zip_ref:\n",
    "        for file in zip_ref.namelist():\n",
    "            image_name = os.path.basename(file)\n",
    "            if image_name in image_names:\n",
    "                zip_ref.extract(file, images_output_dir)\n",
    "    \n",
    "    # Write all captions to a single file\n",
    "    with open(captions_output_file, 'w') as f:\n",
    "        for image_name in image_names:\n",
    "            if image_name in captions:\n",
    "                for index, caption in sorted(captions[image_name], key=lambda x: int(x[0])):\n",
    "                    f.write(f\"{image_name}#{index}\\t{caption}\\n\")\n",
    "    \n",
    "    print(\"Extraction complete! Images saved and captions stored in a single file.\")\n",
    "\n"
   ]
  },
  {
   "cell_type": "code",
   "execution_count": 6,
   "metadata": {},
   "outputs": [
    {
     "name": "stdout",
     "output_type": "stream",
     "text": [
      "Extraction complete! Images saved and captions stored in a single file.\n"
     ]
    }
   ],
   "source": [
    "# Example usage\n",
    "extract_images_with_captions(\n",
    "    zip_path=\"Image captioning dataset-20250330T101538Z-001/Image captioning dataset/Images.zip\",\n",
    "    image_names_path=\"Image captioning dataset-20250330T101538Z-001/Image captioning dataset/image_mapping and captions/Team28/image_names.txt\",\n",
    "    captions_path=\"Image captioning dataset-20250330T101538Z-001/Image captioning dataset/image_mapping and captions/Team28/captions.txt\",\n",
    "    output_dir=\"output\"\n",
    ")\n"
   ]
  }
 ],
 "metadata": {
  "kernelspec": {
   "display_name": "Python 3",
   "language": "python",
   "name": "python3"
  },
  "language_info": {
   "codemirror_mode": {
    "name": "ipython",
    "version": 3
   },
   "file_extension": ".py",
   "mimetype": "text/x-python",
   "name": "python",
   "nbconvert_exporter": "python",
   "pygments_lexer": "ipython3",
   "version": "3.12.1"
  }
 },
 "nbformat": 4,
 "nbformat_minor": 2
}
